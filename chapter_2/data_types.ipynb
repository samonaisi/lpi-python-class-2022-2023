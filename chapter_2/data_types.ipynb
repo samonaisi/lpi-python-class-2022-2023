{
 "cells": [
  {
   "cell_type": "code",
   "execution_count": null,
   "id": "f93d1e42-7b98-4e02-a71a-d0b2c9929bf4",
   "metadata": {},
   "outputs": [],
   "source": [
    "# Change 'Beautiful is better than ugly' to 'Beaooootifooool is better than oooogly'\n",
    "# Change 'Explicit is better than implicit' to ['Explicit', 'is', 'better', 'than', 'implicit']\n",
    "# Change ['Simple', 'is', 'better', 'than', 'complex'] to 'Simple is better than complex'\n",
    "# Change 'Complex is better than complicated to ['than', 'is', 'complicated', 'better', 'Complex']\n",
    "# Find the third word of 'Flat is better than nested'  \n",
    "# Find the position of the word 'better' in the sentence : 'Sparse is better than dense'\n",
    "# Find the last letter of the sentence : 'Readability counts'"
   ]
  },
  {
   "cell_type": "code",
   "execution_count": null,
   "id": "e41e2571-07b7-4dc1-ae23-68d5d5c503d5",
   "metadata": {},
   "outputs": [],
   "source": [
    "'Beautiful is better than ugly'.replace(\"u\", \"oooo\")"
   ]
  },
  {
   "cell_type": "code",
   "execution_count": null,
   "id": "c7902fe6-6869-4324-80c0-d1c996d08a01",
   "metadata": {},
   "outputs": [],
   "source": [
    "'Explicit is better than implicit'.split(\" \")"
   ]
  },
  {
   "cell_type": "code",
   "execution_count": null,
   "id": "b7afe9ad-1793-4f09-b205-e0dc58dd5f3f",
   "metadata": {},
   "outputs": [],
   "source": [
    "\" \".join(['Simple', 'is', 'better', 'than', 'complex'])"
   ]
  },
  {
   "cell_type": "code",
   "execution_count": null,
   "id": "95216b7a-0229-4d6a-8c45-95fc5af521a4",
   "metadata": {},
   "outputs": [],
   "source": [
    "sorted('Complex is better than complicated'.split(\" \"), reverse=True)"
   ]
  },
  {
   "cell_type": "code",
   "execution_count": null,
   "id": "704b1baa-44fe-4a06-91ef-68a68c15fbb1",
   "metadata": {},
   "outputs": [],
   "source": [
    "'Flat is better than nested'.split()[2]"
   ]
  },
  {
   "cell_type": "code",
   "execution_count": null,
   "id": "071e9749-9810-4e75-bb99-597a6064a30d",
   "metadata": {},
   "outputs": [],
   "source": [
    "'Sparse is better than dense'.split().index(\"better\")"
   ]
  },
  {
   "cell_type": "code",
   "execution_count": null,
   "id": "ca35d4a0-9aeb-493c-a813-01049220022a",
   "metadata": {},
   "outputs": [],
   "source": [
    "'Readability counts'[-1]"
   ]
  }
 ],
 "metadata": {
  "kernelspec": {
   "display_name": "Python 3 (ipykernel)",
   "language": "python",
   "name": "python3"
  },
  "language_info": {
   "codemirror_mode": {
    "name": "ipython",
    "version": 3
   },
   "file_extension": ".py",
   "mimetype": "text/x-python",
   "name": "python",
   "nbconvert_exporter": "python",
   "pygments_lexer": "ipython3",
   "version": "3.10.4"
  }
 },
 "nbformat": 4,
 "nbformat_minor": 5
}

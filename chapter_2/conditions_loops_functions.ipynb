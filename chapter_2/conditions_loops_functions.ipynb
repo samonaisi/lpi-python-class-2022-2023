{
 "cells": [
  {
   "cell_type": "markdown",
   "id": "b6d14d34-21c9-48d1-9286-0756a2b1a168",
   "metadata": {},
   "source": [
    "### Pyramid"
   ]
  },
  {
   "cell_type": "code",
   "execution_count": null,
   "id": "df0d8f2b-c7fe-4eda-b418-294e2c812705",
   "metadata": {},
   "outputs": [],
   "source": [
    "def build_pyramid(steps):\n",
    "    if steps > 9:\n",
    "        print(\"this is an ugly pyramid\")\n",
    "    else:\n",
    "        for i in range(1, steps + 1):\n",
    "            print(i*str(i))"
   ]
  },
  {
   "cell_type": "code",
   "execution_count": null,
   "id": "fdd7383a-7949-4627-80d9-787e531e59f8",
   "metadata": {},
   "outputs": [],
   "source": [
    "build_pyramid(9)"
   ]
  },
  {
   "cell_type": "markdown",
   "id": "b888478b-1d2a-48e4-ac10-2e8785b92719",
   "metadata": {},
   "source": [
    "### Other loop"
   ]
  },
  {
   "cell_type": "code",
   "execution_count": null,
   "id": "e5c8c9e6-ec5a-4126-bb3e-643169a0a91b",
   "metadata": {},
   "outputs": [],
   "source": [
    "# Write two functions that return the sum of all the integers between a min and a max value. If the min value is greater than the max value, it should return an error message :\n",
    "# one with a for loop \n",
    "# another with a while loop\n",
    "\n",
    "# Change your function so it can receive the two arguments in any order"
   ]
  },
  {
   "cell_type": "code",
   "execution_count": null,
   "id": "d8aeed37-0cf9-4288-93d9-ffdd86f605ee",
   "metadata": {},
   "outputs": [],
   "source": [
    "def with_a_for_loop_v1(min_value, max_value):\n",
    "    if max_value < min_value:\n",
    "        return \"error message\"\n",
    "    result = 0\n",
    "    for current_value in range(min_value, max_value + 1):  # [1, 2, 3, 4, 5]\n",
    "        result += current_value\n",
    "    return result\n",
    "\n",
    "# 0 + 1 + 2 + 3 + 4 + 5\n",
    "\n",
    "def with_a_for_loop_v2(min_value, max_value):\n",
    "    if max_value < min_value:\n",
    "        return \"error message\"\n",
    "    for i in range(min_value + 1, max_value + 1):  # [2, 3, 4, 5]\n",
    "        min_value += i\n",
    "    return min_value\n",
    "\n",
    "# 1 + 2 + 3 + 4 + 5\n",
    "\n",
    "\n",
    "def with_a_while_loop(value_1, value_2):\n",
    "    min_value = min(value_1, value_2)\n",
    "    max_value = max(value_1, value_2)\n",
    "    result = 0\n",
    "    while min_value <= max_value:\n",
    "        result += min_value\n",
    "        min_value += 1\n",
    "    return result\n"
   ]
  },
  {
   "cell_type": "code",
   "execution_count": null,
   "id": "188a3365-7f19-4a96-86dd-f187594d16e3",
   "metadata": {},
   "outputs": [],
   "source": [
    "print(with_a_for_loop_v1(1, 5))\n",
    "print(with_a_for_loop_v2(1, 5))\n",
    "print(with_a_while_loop(5, 4))"
   ]
  },
  {
   "cell_type": "markdown",
   "id": "b325d767-3cd6-4485-96ff-75c3036754bd",
   "metadata": {},
   "source": [
    "### Old enough to vote"
   ]
  },
  {
   "cell_type": "code",
   "execution_count": null,
   "id": "c09a1988-4afc-462e-a343-08c999584c3a",
   "metadata": {},
   "outputs": [],
   "source": [
    "# You will need the datetime module for the second part :\n",
    "\n",
    "# Write a function that takes an age in years as argument \n",
    "# and returns a boolean telling us if that age allows you to vote\n",
    "\n",
    "# Change your function so it takes a birth date as parameters, \n",
    "# it can either be a string in the dd/mm/yyyy format, or 3 parameters (day, month and year)."
   ]
  },
  {
   "cell_type": "code",
   "execution_count": null,
   "id": "5390c323-3e64-4157-af68-5b9bf05f77b9",
   "metadata": {},
   "outputs": [],
   "source": [
    "def is_old_enough_to_vote(age):\n",
    "    return age >= 18"
   ]
  },
  {
   "cell_type": "code",
   "execution_count": null,
   "id": "457561f8-2b9c-4da6-825b-447c425620db",
   "metadata": {},
   "outputs": [],
   "source": [
    "import datetime\n",
    "\n",
    "def is_old_enough_to_vote(day, month, year):\n",
    "    today = datetime.date.today()\n",
    "    born = datetime.date(year, month, day)\n",
    "    return today - born >= today - today.replace(year=today.year - 18)\n",
    "\n",
    "\n",
    "def is_old_enough_to_vote_v2(birthday):\n",
    "    today = datetime.date.today()\n",
    "    born = datetime.datetime.strptime(birthday, \"%d/%m/%Y\").date()\n",
    "    return today - born >= today - today.replace(year=today.year - 18)\n",
    "\n",
    "\n",
    "print(is_old_enough_to_vote(1, 12, 2004))\n",
    "print(is_old_enough_to_vote_v2(\"01/12/2004\"))"
   ]
  },
  {
   "cell_type": "code",
   "execution_count": null,
   "id": "038c4e24-959a-4e45-aa5d-3630b7ebfaf6",
   "metadata": {},
   "outputs": [],
   "source": [
    "def is_password_valid(password):\n",
    "    \"\"\"\n",
    "    This function checks if the password given as input is strong enough :\n",
    "    - It must be at least 8 characters long \n",
    "    - It must contain at least a special character\n",
    "    - It must contain at least a number\n",
    "    - It must contain at least a letter\n",
    "    \"\"\"\n",
    "    special_chars = [\"@\",\"#\",\"&\",\"!\"]\n",
    "    errors = []\n",
    "    \n",
    "    if not any(char.isdigit() for char in password):\n",
    "        errors.append(\"Password must contain a number\")\n",
    "    if not any(char.isalpha() for char in password):\n",
    "        errors.append(\"Password must contain a letter\")\n",
    "    if not any(char in password for char in special_chars):\n",
    "        errors.append(\"Password must contain a special character\")\n",
    "    if not len(password)>=8:\n",
    "        errors.append(\"Password must be at least 8 characters long\")\n",
    "    return len(errors) == 0, errors\n",
    "        \n",
    "\n",
    "is_valid = False\n",
    "while not is_valid:\n",
    "    password = input(\"Please enter a password.\")\n",
    "    is_valid, errors = is_password_valid(password)\n",
    "    print(\"\\n\".join(errors))\n",
    "\n",
    "print(\"Valid password\")"
   ]
  },
  {
   "cell_type": "markdown",
   "id": "dc19d8ac-66b1-4846-b985-0f9ec3124905",
   "metadata": {},
   "source": [
    "### Practice"
   ]
  },
  {
   "cell_type": "markdown",
   "id": "695ccfc1-6a91-425d-b67f-4fae66e665dd",
   "metadata": {},
   "source": [
    "https://www.w3schools.com/python/exercise.asp?filename=exercise_comments2"
   ]
  }
 ],
 "metadata": {
  "kernelspec": {
   "display_name": "Python 3 (ipykernel)",
   "language": "python",
   "name": "python3"
  },
  "language_info": {
   "codemirror_mode": {
    "name": "ipython",
    "version": 3
   },
   "file_extension": ".py",
   "mimetype": "text/x-python",
   "name": "python",
   "nbconvert_exporter": "python",
   "pygments_lexer": "ipython3",
   "version": "3.10.4"
  }
 },
 "nbformat": 4,
 "nbformat_minor": 5
}

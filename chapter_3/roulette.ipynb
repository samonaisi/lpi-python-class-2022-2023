{
 "cells": [
  {
   "cell_type": "code",
   "execution_count": null,
   "id": "9c5dfb1c-7970-4354-a15b-60219fd45dd7",
   "metadata": {
    "tags": []
   },
   "outputs": [],
   "source": [
    "import random\n",
    "import time\n",
    "\n",
    "\n",
    "def go_to_casino(money = 1000):\n",
    "    keep_going = True\n",
    "    while keep_going:\n",
    "        # play the roulette with the given rules\n",
    "        print(f\"You now have ${money}\")\n",
    "        answer = input(\"Do you want to stop playing (y/n) ?\")\n",
    "        if answer in [\"y\", \"Y\"]:\n",
    "            print(f\"You leave with ${money}\")\n",
    "            keep_going = False\n",
    "    return money"
   ]
  },
  {
   "cell_type": "code",
   "execution_count": null,
   "id": "47ef7d9f-76ed-4c30-8acc-fb4f6fea0553",
   "metadata": {},
   "outputs": [],
   "source": [
    "final_money = go_to_casino()"
   ]
  }
 ],
 "metadata": {
  "kernelspec": {
   "display_name": "Python 3 (ipykernel)",
   "language": "python",
   "name": "python3"
  },
  "language_info": {
   "codemirror_mode": {
    "name": "ipython",
    "version": 3
   },
   "file_extension": ".py",
   "mimetype": "text/x-python",
   "name": "python",
   "nbconvert_exporter": "python",
   "pygments_lexer": "ipython3",
   "version": "3.10.4"
  }
 },
 "nbformat": 4,
 "nbformat_minor": 5
}

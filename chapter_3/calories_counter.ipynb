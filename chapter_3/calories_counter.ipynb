{
 "cells": [
  {
   "cell_type": "code",
   "execution_count": null,
   "id": "a19fbdc2-1b84-465a-8358-5da8f41117a8",
   "metadata": {},
   "outputs": [],
   "source": [
    "from functools import reduce"
   ]
  },
  {
   "cell_type": "code",
   "execution_count": null,
   "id": "f9e590da-2477-45b5-a6d6-4deb527f9930",
   "metadata": {},
   "outputs": [],
   "source": [
    "calories = {\n",
    "   'Hamburger': 600,\n",
    "   'Cheese Burger': 750,\n",
    "   'Veggie Burger': 400,\n",
    "   'Vegan Burger': 350,\n",
    "   'Sweet Potatoes': 230,\n",
    "   'Salad': 15,\n",
    "   'Iced Tea': 70,\n",
    "   'Lemonade': 90,\n",
    "}\n",
    "\n",
    "combos = {\n",
    "    \"Cheesy Combo\": [\"Cheese Burger\", \"Sweet Potatoes\", \"Lemonade\"],\n",
    "    \"Veggie Combo\": [\"Veggie Burger\", \"Sweet Potatoes\", \"Iced Tea\"],\n",
    "    \"Vegan Combo\": [\"Vegan Burger\", \"Salad\", \"Lemonade\"],\n",
    "}"
   ]
  },
  {
   "cell_type": "code",
   "execution_count": null,
   "id": "e90b9aa5-2dc5-4c9c-b9e9-8fd098e49fbb",
   "metadata": {},
   "outputs": [],
   "source": [
    "from functools import reduce\n",
    "    \n",
    "def extract_calories(menu_item):\n",
    "    if menu_item in calories:\n",
    "        return calories[menu_item]\n",
    "    elif menu_item in combos:\n",
    "        return sum(list(map(lambda x: calories[x], combos[menu_item])))\n",
    "    else:\n",
    "        raise ValueError(\"This is not on the menu\")\n",
    "        \n",
    "\n",
    "def calories_counter(*args):\n",
    "    return sum(list(map(lambda x: extract_calories(x), args)))\n",
    "\n",
    "def calories_counter(*args):\n",
    "    return reduce(lambda x, y: x + extract_calories(y), 0)"
   ]
  },
  {
   "cell_type": "code",
   "execution_count": null,
   "id": "d2827be7-000c-413a-9c94-a001a94cbc0c",
   "metadata": {},
   "outputs": [],
   "source": [
    "# The output from this cell should be 1420\n",
    "calories_counter(\"Hamburger\", \"Cheese Burger\", \"Iced Tea\")"
   ]
  },
  {
   "cell_type": "code",
   "execution_count": null,
   "id": "d859a2b5-bc4a-4128-ba1b-c39110049922",
   "metadata": {},
   "outputs": [],
   "source": [
    "# The output from this cell should be 1890\n",
    "calories_counter(\"Cheesy Combo\", \"Cheese Burger\", \"Iced Tea\")"
   ]
  }
 ],
 "metadata": {
  "kernelspec": {
   "display_name": "Python 3 (ipykernel)",
   "language": "python",
   "name": "python3"
  },
  "language_info": {
   "codemirror_mode": {
    "name": "ipython",
    "version": 3
   },
   "file_extension": ".py",
   "mimetype": "text/x-python",
   "name": "python",
   "nbconvert_exporter": "python",
   "pygments_lexer": "ipython3",
   "version": "3.10.4"
  }
 },
 "nbformat": 4,
 "nbformat_minor": 5
}

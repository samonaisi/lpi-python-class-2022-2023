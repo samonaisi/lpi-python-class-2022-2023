{
 "cells": [
  {
   "cell_type": "markdown",
   "id": "4f6699e8-084d-4500-bc96-9d412b62a5f7",
   "metadata": {
    "tags": []
   },
   "source": [
    "### The lambda function"
   ]
  },
  {
   "cell_type": "code",
   "execution_count": null,
   "id": "dee17ef2-5edb-462e-8e44-de5f1644b77e",
   "metadata": {},
   "outputs": [],
   "source": [
    "# The lambda function allows you to define a function on one line\n",
    "squared = lambda x: x**2\n",
    "print(f\"2 squared is {squared(2)}\")\n",
    "print(f\"3 squared is {squared(3)}\")"
   ]
  },
  {
   "cell_type": "code",
   "execution_count": null,
   "id": "8a0d74f3-b1af-4510-af73-6ffcd6f51b53",
   "metadata": {
    "tags": []
   },
   "outputs": [],
   "source": [
    "# You can use it with multiple arguments\n",
    "multiply = lambda x, y: x*y\n",
    "print(f\"2 times 3 is {multiply(2, 3)}\")\n",
    "print(f\"4 times 5 is {multiply(4, 5)}\")"
   ]
  },
  {
   "cell_type": "markdown",
   "id": "42340787-8693-4b9c-94f2-4ff993b8fe0a",
   "metadata": {},
   "source": [
    "### The map function"
   ]
  },
  {
   "cell_type": "code",
   "execution_count": null,
   "id": "e363731f-c30c-4ff1-8e8d-562cafbe0119",
   "metadata": {},
   "outputs": [],
   "source": [
    "# The map function allows you to apply a function to all the items in an iterable\n",
    "# You need to combine it with lambda\n",
    "items = [1, 2, 3, 4, 5]\n",
    "print(list(map(lambda x: x**2, items)))"
   ]
  },
  {
   "cell_type": "code",
   "execution_count": null,
   "id": "056d6564-6b99-4c7d-bdb9-5ed6a8c316c3",
   "metadata": {},
   "outputs": [],
   "source": [
    "# It is equivalent to these lines of code, but more elegant !\n",
    "\n",
    "items = [1, 2, 3, 4, 5]\n",
    "new_items = []\n",
    "for item in items:\n",
    "    new_items.append(item**2)\n",
    "print(new_items)"
   ]
  },
  {
   "cell_type": "code",
   "execution_count": null,
   "id": "6bb6fb4a-585c-4337-88aa-c6c7ca7a4d9d",
   "metadata": {},
   "outputs": [],
   "source": [
    "# You can use it with multiple iterables of the same lenght\n",
    "numbers = [1, 2, 3, 4, 5]\n",
    "letters = [\"a\", \"b\", \"c\", \"d\", \"e\"]\n",
    "print(list(map(lambda x, y: x*y, numbers, letters)))"
   ]
  },
  {
   "cell_type": "code",
   "execution_count": null,
   "id": "8b3587f5-ab78-42ea-9443-fb4b0752d191",
   "metadata": {},
   "outputs": [],
   "source": [
    "# It will stop when it's been through the smallest of the iterables\n",
    "numbers = [1, 2, 3, 4, 5]\n",
    "letters = [\"a\", \"b\", \"c\"]\n",
    "print(list(map(lambda x, y: x*y, numbers, letters)))"
   ]
  },
  {
   "cell_type": "markdown",
   "id": "cd059ae1-c3d8-448c-8ca7-c3c77464193c",
   "metadata": {},
   "source": [
    "### The filter function"
   ]
  },
  {
   "cell_type": "code",
   "execution_count": null,
   "id": "ca3b2fba-eba6-4871-ba4a-aed355ce7e23",
   "metadata": {},
   "outputs": [],
   "source": [
    "# As the name suggests, filter creates a list of elements for which a function returns true\n",
    "numbers = range(-5, 5)\n",
    "print(list(numbers))\n",
    "more_than_zero = list(filter(lambda x: x > 0, numbers))\n",
    "print(more_than_zero)"
   ]
  },
  {
   "cell_type": "code",
   "execution_count": null,
   "id": "52cdebe9-91fc-40d2-8137-2f5e78fff79e",
   "metadata": {},
   "outputs": [],
   "source": [
    "# It is equivalent to these lines of code, but more elegant !\n",
    "\n",
    "numbers = range(-5, 5)\n",
    "less_than_zero = []\n",
    "for number in numbers:\n",
    "    if number < 0:\n",
    "        less_than_zero.append(number)\n",
    "print(less_than_zero)"
   ]
  },
  {
   "cell_type": "markdown",
   "id": "ab410cc5-8a73-410d-b3ab-cfb19ae72f1f",
   "metadata": {},
   "source": [
    "### The reduce function"
   ]
  },
  {
   "cell_type": "code",
   "execution_count": null,
   "id": "5d1dbd85-a202-4b83-80d3-ba496d648282",
   "metadata": {},
   "outputs": [],
   "source": [
    "from functools import reduce\n",
    "\n",
    "words = [\"Hello\", \"my\", \"name\", \"is\", \"sam\"]\n",
    "sentence = reduce(lambda x, y: x + \" \" + y, words)\n",
    "print(sentence)"
   ]
  },
  {
   "cell_type": "code",
   "execution_count": null,
   "id": "5edefa46-d79c-4f35-9f4c-54a116867172",
   "metadata": {},
   "outputs": [],
   "source": [
    "numbers = [1, 5, 10, -1, 5]\n",
    "numbers_sum = reduce(lambda x, y: x + y, numbers)\n",
    "print(numbers_sum)"
   ]
  },
  {
   "cell_type": "code",
   "execution_count": null,
   "id": "83963e08-e315-4362-9ec7-a00e6e8a1a14",
   "metadata": {},
   "outputs": [],
   "source": [
    "# It is equivalent to these lines of code, but more elegant !\n",
    "\n",
    "numbers_sum = 0\n",
    "numbers = [1, 5, 10, -1, 5]\n",
    "for number in numbers:\n",
    "    numbers_sum += number\n",
    "print(numbers_sum)"
   ]
  }
 ],
 "metadata": {
  "kernelspec": {
   "display_name": "Python 3 (ipykernel)",
   "language": "python",
   "name": "python3"
  },
  "language_info": {
   "codemirror_mode": {
    "name": "ipython",
    "version": 3
   },
   "file_extension": ".py",
   "mimetype": "text/x-python",
   "name": "python",
   "nbconvert_exporter": "python",
   "pygments_lexer": "ipython3",
   "version": "3.10.4"
  }
 },
 "nbformat": 4,
 "nbformat_minor": 5
}

{
 "cells": [
  {
   "cell_type": "code",
   "execution_count": null,
   "id": "67a94f69-6418-4cea-a924-98143de436ec",
   "metadata": {},
   "outputs": [],
   "source": [
    "# When you run something that doesn't make sense, python raises an error\n",
    "x = 1 + \"a\""
   ]
  },
  {
   "cell_type": "code",
   "execution_count": null,
   "id": "b68197b8-6ae8-41e9-b10f-5e0d93678f26",
   "metadata": {},
   "outputs": [],
   "source": [
    "# You can catch these errors with \"try\" and define a specific action with \"except\"\n",
    "# \"except\" has to be defined when you use \"try\"\n",
    "for i in range(10):\n",
    "    try:\n",
    "        x = 1 / i\n",
    "        print(x)\n",
    "    except:\n",
    "        print(f\"Something went wrong with {i}\")"
   ]
  },
  {
   "cell_type": "code",
   "execution_count": null,
   "id": "8732305d-4c65-4cd3-95b8-a7be4c74ef42",
   "metadata": {},
   "outputs": [],
   "source": [
    "# You can try to catch different types of errors and write a specific action for each\n",
    "# You can also add a bare \"except\" to catch all other errors\n",
    "try:\n",
    "    x = 1 + \"a\"\n",
    "except TypeError:\n",
    "    print(\"Sorry, wrong type !\")\n",
    "except:\n",
    "    print(\"I really don't know what happened\")"
   ]
  },
  {
   "cell_type": "code",
   "execution_count": null,
   "id": "c84bab5a-0654-4820-b200-2e6fee50a74e",
   "metadata": {},
   "outputs": [],
   "source": [
    "try:\n",
    "    x = 1 + \"a\"\n",
    "except ValueError:\n",
    "    print(\"Sorry, wrong value !\")\n",
    "except:\n",
    "    print(\"I really don't know what happened\")"
   ]
  },
  {
   "cell_type": "code",
   "execution_count": null,
   "id": "5bf9f512-108e-457d-812c-eeb2d237b627",
   "metadata": {},
   "outputs": [],
   "source": [
    "# You can use else to perform an action in case of a success\n",
    "# But it's cleaner to write that after your try/except \n",
    "try:\n",
    "    x = 1 + 2\n",
    "except:\n",
    "    print(\"We have a problem\")\n",
    "else:\n",
    "    print(x)"
   ]
  },
  {
   "cell_type": "code",
   "execution_count": null,
   "id": "4e1c9ad4-22c6-412d-9923-d0bfab3f8bcb",
   "metadata": {},
   "outputs": [],
   "source": [
    "# here is one example of how you could use it\n",
    "def invert(value):\n",
    "    try:  # Try to execute this action\n",
    "        result = 1 / value\n",
    "    # If you provide a value that is not invertable, raise a TypeError\n",
    "    except TypeError:  \n",
    "        print(f\"This is not the right type : {value}\")\n",
    "    # If you catch any other error derived from Exception (the mother class of most python errors),\n",
    "    # print the exception.\n",
    "    except Exception as e:\n",
    "        print(f\"Something weird happened : {e}.\") \n",
    "    # print the result if no error is caught\n",
    "    else:\n",
    "        print(f\"result is {result}\")\n",
    "    # No matter what happens, print a message\n",
    "    finally:\n",
    "        print(f\"A calculator could have done the job...\\n\")\n",
    "\n",
    "print(\"lets try with a string :\")\n",
    "invert(\"hello\")\n",
    "\n",
    "print(\"lets try to divide by zero :\")\n",
    "invert(0)\n",
    "\n",
    "print(\"lets try a valid one :\")\n",
    "invert(2)"
   ]
  },
  {
   "cell_type": "code",
   "execution_count": null,
   "id": "d1afa0bb-c2b4-43de-8669-b85c5add9a85",
   "metadata": {},
   "outputs": [],
   "source": [
    "# You can also choose to raise Exceptions yourself\n",
    "# This is useful if you want your program to crash in certain circumstances\n",
    "raise BaseException"
   ]
  },
  {
   "cell_type": "code",
   "execution_count": null,
   "id": "da241823-03f8-4339-8f40-bbdae0c8f65e",
   "metadata": {},
   "outputs": [],
   "source": [
    "# You can choose to raise specific kind of errors\n",
    "raise ValueError"
   ]
  },
  {
   "cell_type": "code",
   "execution_count": null,
   "id": "edd023bf-3468-4110-a8ad-206b50ba8229",
   "metadata": {},
   "outputs": [],
   "source": [
    "# And you can add a message explaining why it crashed\n",
    "raise ValueError(\"I am uselessly raising an error\")"
   ]
  },
  {
   "cell_type": "code",
   "execution_count": null,
   "id": "680a33e2-b126-490e-b5b9-2a0daad07627",
   "metadata": {},
   "outputs": [],
   "source": [
    "def multiply(a, b):\n",
    "    if not type(a) == int or not isinstance(b, int):\n",
    "        raise ValueError(\"One of your values is not a number\")\n",
    "    return a * b\n",
    "\n",
    "multiply(2, 3)"
   ]
  }
 ],
 "metadata": {
  "kernelspec": {
   "display_name": "Python 3 (ipykernel)",
   "language": "python",
   "name": "python3"
  },
  "language_info": {
   "codemirror_mode": {
    "name": "ipython",
    "version": 3
   },
   "file_extension": ".py",
   "mimetype": "text/x-python",
   "name": "python",
   "nbconvert_exporter": "python",
   "pygments_lexer": "ipython3",
   "version": "3.10.4"
  }
 },
 "nbformat": 4,
 "nbformat_minor": 5
}

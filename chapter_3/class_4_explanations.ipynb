{
 "cells": [
  {
   "cell_type": "markdown",
   "id": "e60adb21-839d-4d09-96e9-143148739333",
   "metadata": {
    "tags": []
   },
   "source": [
    "## Class 4 - Functional programming\n",
    "\n",
    "Here are the instructions you were given.\n",
    "You can also find the original file with the link in the slides, or in the project's resources.\n",
    "\n",
    "> - Download and open **calories_counter.ipynb** in jupyter\n",
    "> - Write the calories_counter function that takes item_1, item_2 and item_3 as arguments and returns the total number of calories for the three items of your order.\n",
    "> - Add the possibility to order combos (without pre-calculating the calories) : \n",
    ">   - **Cheesy Combo** : Cheese Burger, Sweet Potatoes, Lemonade\n",
    ">   - **Veggie Combo** : Veggie Burger, Sweet Potatoes, Iced Tea\n",
    ">   - **Vegan Combo** : Vegan Burger, Salad, Lemonade   \n",
    "> - Optional : use *args to make your function take any number of arguments"
   ]
  },
  {
   "cell_type": "markdown",
   "id": "6f2d6af3-7f9c-46b2-8400-60485d0b792c",
   "metadata": {},
   "source": [
    "### Let's start with a few definitions"
   ]
  },
  {
   "cell_type": "code",
   "execution_count": null,
   "id": "d3a56c4f-8875-4c30-b5b0-7d5b2bf5361c",
   "metadata": {},
   "outputs": [],
   "source": [
    "# In a list, you can access a value when you know its index : \n",
    "animals = [\"dog\", \"cat\", \"horse\"]\n",
    "print(f\"The first animal of my list is : {animals[0]}\")\n",
    "\n",
    "# In a dictionary, you can access a value when you know its key : \n",
    "some_guy = {\n",
    "    \"age\": 28,\n",
    "    \"first_name\": \"Sam\",\n",
    "    \"last_name\": \"Onaisi\",\n",
    "}\n",
    "print(some_guy[\"first_name\"])\n",
    "print(f\"That guy stored in my dict is {some_guy['age']} years old.\")"
   ]
  },
  {
   "cell_type": "code",
   "execution_count": null,
   "id": "3f19618b-2319-4aa1-b95c-d46fbd1f39c7",
   "metadata": {},
   "outputs": [],
   "source": [
    "# Now let's see what functions are\n",
    "# functions are blocks of code that are not executed where they are written,\n",
    "# but only when the function is called\n",
    "\n",
    "# Here I am defining a function with the \"def\" keyword and I am calling it \"my_function\"\n",
    "# You must run the cell for the function \"my_function\" to be defined\n",
    "# If you run the cell, you can see that nothing happens, the print statement has not been executed\n",
    "def my_function():\n",
    "    print(\"hello\")"
   ]
  },
  {
   "cell_type": "code",
   "execution_count": null,
   "id": "952c09be-207a-4475-8381-a776eaf0e426",
   "metadata": {},
   "outputs": [],
   "source": [
    "# Now you can call the function : \n",
    "my_function()"
   ]
  },
  {
   "cell_type": "code",
   "execution_count": null,
   "id": "7c027a76-d5a5-485d-ac72-93722a29a09c",
   "metadata": {},
   "outputs": [],
   "source": [
    "# When using functions, we usually return a value that can be assigned to a variable\n",
    "def my_other_function():\n",
    "    return \"my return value\""
   ]
  },
  {
   "cell_type": "code",
   "execution_count": null,
   "id": "17c16aa2-d482-42c3-872e-e9e520b5f346",
   "metadata": {},
   "outputs": [],
   "source": [
    "# And you assign it to a variable by calling the function previously defined :\n",
    "return_from_function = my_other_function()"
   ]
  },
  {
   "cell_type": "code",
   "execution_count": null,
   "id": "d1ffd1bf-9c3c-4348-900c-d4d5402a8e39",
   "metadata": {},
   "outputs": [],
   "source": [
    "print(return_from_function)"
   ]
  },
  {
   "cell_type": "code",
   "execution_count": null,
   "id": "2335a760-2704-4046-81ad-45058a49998e",
   "metadata": {},
   "outputs": [],
   "source": [
    "# Functions also usually have arguments, they are values that vary each time you call the function :\n",
    "def function_to_add_numbers(first_number, second_number):\n",
    "    result = first_number + second_number\n",
    "    return result"
   ]
  },
  {
   "cell_type": "code",
   "execution_count": null,
   "id": "483fe703-a7b3-4b31-ae60-a6f1f524382c",
   "metadata": {},
   "outputs": [],
   "source": [
    "# And once it's defined, you can call it: \n",
    "result_1 = function_to_add_numbers(2, 5)\n",
    "print(\"2 + 5 = \" + str(result_1))\n",
    "\n",
    "result_2 = function_to_add_numbers(3, 1)\n",
    "print(\"3 + 1 = \" + str(result_2))"
   ]
  },
  {
   "cell_type": "markdown",
   "id": "0d3aaa1e-0f77-4b73-bf5d-152153ca0708",
   "metadata": {},
   "source": [
    "### Now let's try to solve the exercise"
   ]
  },
  {
   "cell_type": "code",
   "execution_count": null,
   "id": "922fb766-9ab3-499c-9a79-3aac76411c06",
   "metadata": {},
   "outputs": [],
   "source": [
    "# Now that we know all of this, we can start working on the calories counter\n",
    "\n",
    "# calories is a dictionary. \n",
    "# A dictionary is an iterable with values (here the numbers) accessible by their keys (the meals)\n",
    "calories = {\n",
    "   'Hamburger': 600,\n",
    "   'Cheese Burger': 750,\n",
    "   'Veggie Burger': 400,\n",
    "   'Vegan Burger': 350,\n",
    "   'Sweet Potatoes': 230,\n",
    "   'Salad': 15,\n",
    "   'Iced Tea': 70,\n",
    "   'Lemonade': 90,\n",
    "}\n",
    "\n",
    "\n",
    "def calories_counter(item_1, item_2, item_3):\n",
    "    \"\"\"\n",
    "    Here I am using a docstring, a type of comment different than the one using #\n",
    "    It is used to document functions.\n",
    "    \n",
    "    We start with an empty function (the pass keyword means \"do nothing\")\n",
    "    \n",
    "    we want our function to return the total calories for the three items given as arguments\n",
    "    \"\"\"\n",
    "    \n",
    "    pass "
   ]
  },
  {
   "cell_type": "code",
   "execution_count": null,
   "id": "42ccea52-f794-4fb1-9c9d-aaa78a2d02e0",
   "metadata": {},
   "outputs": [],
   "source": [
    "def calories_counter(item_1, item_2, item_3):\n",
    "    \"\"\"\n",
    "    For the three items, we look for the value associated with the key item_1, item_2 or item_3 \n",
    "    in the calories dictionary.\n",
    "    Be careful, item_1 is not equal to \"item_1\". item_1 is a variable that contains a string (text)\n",
    "    \"\"\"\n",
    "    calories_item_1 = calories[item_1]\n",
    "    print(item_1)\n",
    "    print(calories_item_1)"
   ]
  },
  {
   "cell_type": "code",
   "execution_count": null,
   "id": "c82fcf8f-0463-4f51-af7c-3e02c5119a92",
   "metadata": {},
   "outputs": [],
   "source": [
    "calories_counter(\"Hamburger\", \"Cheese Burger\", \"Iced Tea\")"
   ]
  },
  {
   "cell_type": "code",
   "execution_count": null,
   "id": "68727688-11d4-4738-ac67-1a485220e2ef",
   "metadata": {},
   "outputs": [],
   "source": [
    "# You can see what happens with item_1, let's redefine our function\n",
    "# so that instead of printing stuff, it returns the value we want\n",
    "def calories_counter(item_1, item_2, item_3):\n",
    "    calories_item_1 = calories[item_1]\n",
    "    calories_item_2 = calories[item_2]\n",
    "    calories_item_3 = calories[item_3]\n",
    "    total = calories_item_1 + calories_item_2 + calories_item_3\n",
    "    return total"
   ]
  },
  {
   "cell_type": "code",
   "execution_count": null,
   "id": "a3069214-5097-4bf4-8aa5-f59ef8c994b0",
   "metadata": {},
   "outputs": [],
   "source": [
    "result = calories_counter(\"Hamburger\", \"Cheese Burger\", \"Iced Tea\")\n",
    "print(result)"
   ]
  },
  {
   "cell_type": "code",
   "execution_count": null,
   "id": "b5c41eb9-5454-4088-bca6-6d6750d721d8",
   "metadata": {},
   "outputs": [],
   "source": [
    "# We can also simplify this function by removing the intermediate variables\n",
    "def calories_counter(item_1, item_2, item_3):\n",
    "    return calories[item_1] + calories[item_2] + calories[item_3]"
   ]
  },
  {
   "cell_type": "code",
   "execution_count": null,
   "id": "16243203-e5be-495f-b564-82e281a5cba0",
   "metadata": {},
   "outputs": [],
   "source": [
    "result = calories_counter(\"Hamburger\", \"Cheese Burger\", \"Iced Tea\")\n",
    "print(result)"
   ]
  },
  {
   "cell_type": "markdown",
   "id": "269f49f9-1908-4156-ab6c-72333fc98a80",
   "metadata": {},
   "source": [
    "### Now let's solve the second part of the exercise :"
   ]
  },
  {
   "cell_type": "code",
   "execution_count": null,
   "id": "6ca1a481-81c2-4aa7-bffa-6ec527a6f8f5",
   "metadata": {},
   "outputs": [],
   "source": [
    "# We want to be able to order combos\n",
    "# You can see that the combos are made from the meals stored in the calories dictionary\n",
    "combos = {\n",
    "    \"Cheesy Combo\" : [\"Cheese Burger\", \"Sweet Potatoes\", \"Lemonade\"],\n",
    "    \"Veggie Combo\" : [\"Veggie Burger\", \"Sweet Potatoes\", \"Iced Tea\"],\n",
    "    \"Vegan Combo\" : [\"Vegan Burger\", \"Salad\", \"Lemonade\"],\n",
    "}"
   ]
  },
  {
   "cell_type": "code",
   "execution_count": null,
   "id": "a92b7270-ee4c-44ef-8b07-50eacfbbf5b1",
   "metadata": {},
   "outputs": [],
   "source": [
    "# If we try to run this cell with our current calories_counter, we get an error, so we must change it\n",
    "calories_counter(\"Cheesy Combo\", \"Cheese Burger\", \"Iced Tea\")"
   ]
  },
  {
   "cell_type": "code",
   "execution_count": null,
   "id": "8faf4552-4fe0-4d61-8f67-e7d5fc857082",
   "metadata": {},
   "outputs": [],
   "source": [
    "# This is what we currently have\n",
    "def calories_counter(item_1, item_2, item_3):\n",
    "    return calories[item_1] + calories[item_2] + calories[item_3]\n",
    "\n",
    "# Now we want to use an if/else statement because we have two different kinds of items we can order\n",
    "# instead of writing three if/else statements, we are going to use a loop, let's do that first :\n",
    "def calories_counter(item_1, item_2, item_3):\n",
    "    items = [item_1, item_2, item_3]\n",
    "    total = 0\n",
    "    for item in items:\n",
    "        print(\"current item value is : \" + item)\n",
    "        total = total + calories[item]\n",
    "    return total"
   ]
  },
  {
   "cell_type": "code",
   "execution_count": null,
   "id": "15595db6-5c02-4956-81fc-ddc8fcc0abb3",
   "metadata": {},
   "outputs": [],
   "source": [
    "# Our function is still the same, we just calculate the result differently\n",
    "# Let's try it with the first order (the one without combos)\n",
    "# I'm printing every item so you can see how the for loop works\n",
    "result = calories_counter(\"Hamburger\", \"Cheese Burger\", \"Iced Tea\")\n",
    "print(result)"
   ]
  },
  {
   "cell_type": "code",
   "execution_count": null,
   "id": "46f634a9-d372-4f47-aad6-c57c209ba685",
   "metadata": {},
   "outputs": [],
   "source": [
    "# Now, thanks to an if/else statement, we can execute two different blocks of code\n",
    "# for both types of meal\n",
    "def calories_counter(item_1, item_2, item_3):\n",
    "    items = [item_1, item_2, item_3]\n",
    "    total = 0\n",
    "    for item in items:\n",
    "        if item in calories:\n",
    "            total = total + calories[item]\n",
    "        elif item in combos:\n",
    "            # this is all that's left to do\n",
    "            pass\n",
    "        else:\n",
    "            # we won't do anything with wrong values for the moment, so we just pass\n",
    "            pass\n",
    "    return total"
   ]
  },
  {
   "cell_type": "markdown",
   "id": "97de0538-6669-4442-8082-448288aa8574",
   "metadata": {},
   "source": [
    "### Solution"
   ]
  },
  {
   "cell_type": "code",
   "execution_count": null,
   "id": "3f2bddcc-8641-4606-bae0-b349f5ba21ec",
   "metadata": {},
   "outputs": [],
   "source": [
    "# Let's write something that works first, we just need to write the combo case :\n",
    "\n",
    "def calories_counter(item_1, item_2, item_3):\n",
    "    items = [item_1, item_2, item_3]\n",
    "    total = 0\n",
    "    for item in items:\n",
    "        if item in calories:\n",
    "            total = total + calories[item]\n",
    "        elif item in combos:\n",
    "            combo_items = combos[item] #  This will return a list of items that are all in calories dict\n",
    "            for combo_item in combo_items:\n",
    "                total = total + calories[combo_item]  # So we can treat it like a regular item\n",
    "        else:\n",
    "            pass\n",
    "    return total"
   ]
  },
  {
   "cell_type": "code",
   "execution_count": null,
   "id": "a45d37a7-0179-4f39-a1b6-8842efe8c419",
   "metadata": {},
   "outputs": [],
   "source": [
    "# We now have a working calories_counter, that takes regular meals and combos as arguments\n",
    "result = calories_counter(\"Cheesy Combo\", \"Cheese Burger\", \"Iced Tea\")\n",
    "print(result)"
   ]
  },
  {
   "cell_type": "markdown",
   "id": "b0603847-efc2-444a-b898-cbb7cb6f6006",
   "metadata": {
    "tags": []
   },
   "source": [
    "### Write cleaner code\n",
    "\n",
    "This function works in a weird way, we can only order three items, there are two ways we can make it cleaner"
   ]
  },
  {
   "cell_type": "markdown",
   "id": "73356b69-6221-44d5-910c-638b7dbcd96e",
   "metadata": {},
   "source": [
    "**Solution 1: Use a list as argument**"
   ]
  },
  {
   "cell_type": "code",
   "execution_count": null,
   "id": "a609f90a-b213-46c0-9e8d-8173bd87ac09",
   "metadata": {},
   "outputs": [],
   "source": [
    "# This is not a big change, and we already almost use this because we put\n",
    "# our three arguments in a list, so it almost doesn't change\n",
    "\n",
    "def calories_counter(items):\n",
    "    total = 0\n",
    "    for item in items:\n",
    "        if item in calories:\n",
    "            total = total + calories[item]\n",
    "        elif item in combos:\n",
    "            combo_items = combos[item] #  This will return a list of items that are all in calories dict\n",
    "            for combo_item in combo_items:\n",
    "                total = total + calories[combo_item]  # So we can treat it like a regular item\n",
    "        else:\n",
    "            pass\n",
    "    return total"
   ]
  },
  {
   "cell_type": "code",
   "execution_count": null,
   "id": "a44df231-5f0f-42a6-be13-711094b2249d",
   "metadata": {},
   "outputs": [],
   "source": [
    "# You see that the argument is now a list and not three string arguments\n",
    "result = calories_counter([\"Cheesy Combo\", \"Cheese Burger\", \"Iced Tea\"]) \n",
    "print(result)"
   ]
  },
  {
   "cell_type": "markdown",
   "id": "30223b06-30b6-4c7f-8e34-a059e941f6a6",
   "metadata": {},
   "source": [
    "**Solution 2: use args**\n",
    "\n",
    "args are a bit harder to understand, you can skip this part if you're struggling\n",
    "\n",
    "args allow you to write a function that takes an undefined number of arguments, here are a few examples first"
   ]
  },
  {
   "cell_type": "code",
   "execution_count": null,
   "id": "f48f94f9-5c77-408f-be77-8eabdb833ab5",
   "metadata": {},
   "outputs": [],
   "source": [
    "def test_args(*args):  # notice the *\n",
    "    print(args)  # here we don't use it"
   ]
  },
  {
   "cell_type": "code",
   "execution_count": null,
   "id": "f5801664-a5f7-4991-be2c-fc9ff7dfe81c",
   "metadata": {},
   "outputs": [],
   "source": [
    "# args are stored in a tuple :\n",
    "test_args(\"arg 1\", \"arg 2\", \"arg 3\")"
   ]
  },
  {
   "cell_type": "code",
   "execution_count": null,
   "id": "39515044-9d03-44c6-a762-14f63797a2da",
   "metadata": {},
   "outputs": [],
   "source": [
    "# Here I'm using the function with 2 args instead of 3\n",
    "test_args(\"arg 1\", \"arg 2\")"
   ]
  },
  {
   "cell_type": "code",
   "execution_count": null,
   "id": "104ae55f-5e34-4b89-ba76-8bd2dcbfe75c",
   "metadata": {},
   "outputs": [],
   "source": [
    "# Because a tuple is iterable, we can loop over them in a for loop:\n",
    "def test_args(*args):\n",
    "    for arg in args:\n",
    "        print(arg)"
   ]
  },
  {
   "cell_type": "code",
   "execution_count": null,
   "id": "bef65029-ca8f-4e72-b33d-61f13edc844d",
   "metadata": {},
   "outputs": [],
   "source": [
    "test_args(\"arg 1\", \"arg 2\", \"arg 3\")"
   ]
  },
  {
   "cell_type": "code",
   "execution_count": null,
   "id": "a07f2511-c6bc-4a08-a896-ff82f820ea4f",
   "metadata": {},
   "outputs": [],
   "source": [
    "# So you can now see how we can use this in our function :\n",
    "\n",
    "def calories_counter(*items):  # The only change is the *\n",
    "    total = 0\n",
    "    for item in items:\n",
    "        if item in calories:\n",
    "            total = total + calories[item]\n",
    "        elif item in combos:\n",
    "            combo_items = combos[item]\n",
    "            for combo_item in combo_items:\n",
    "                total = total + calories[combo_item]\n",
    "        else:\n",
    "            pass\n",
    "    return total"
   ]
  },
  {
   "cell_type": "code",
   "execution_count": null,
   "id": "0514d8f3-6e76-4717-8353-6888ca356db4",
   "metadata": {},
   "outputs": [],
   "source": [
    "# You see that the argument is not a list anymore\n",
    "result = calories_counter(\"Cheesy Combo\", \"Cheese Burger\", \"Iced Tea\") \n",
    "print(result)"
   ]
  },
  {
   "cell_type": "code",
   "execution_count": null,
   "id": "9f3ea218-ef3c-41fc-9f64-755fdaf80424",
   "metadata": {},
   "outputs": [],
   "source": [
    "# And we can order as many items as we want\n",
    "result = calories_counter(\"Cheesy Combo\") \n",
    "print(result)"
   ]
  },
  {
   "cell_type": "markdown",
   "id": "e360f109-0f24-4d8c-b328-c25169a7c80d",
   "metadata": {},
   "source": [
    "### Recursive function\n",
    "\n",
    "A recursive function is a function that calls itself. To understand this, you must try to read how the code will execute line by line."
   ]
  },
  {
   "cell_type": "code",
   "execution_count": null,
   "id": "695c38bb-3a77-4bca-b113-684cbefd48ac",
   "metadata": {},
   "outputs": [],
   "source": [
    "# Let's start with the function that takes a list as argument :\n",
    "\n",
    "def calories_counter(items):\n",
    "    total = 0\n",
    "    for item in items:\n",
    "        if item in calories:\n",
    "            total = total + calories[item]\n",
    "        elif item in combos:\n",
    "            # The three commented lines are actually the calories_counter function\n",
    "            # but for items instead of combos\n",
    "            # \n",
    "            # combo_items = combos[item]\n",
    "            # for combo_item in combo_items:\n",
    "            #     total = total + calories[combo_item]\n",
    "            # \n",
    "            # So we can replace them with :\n",
    "            total = total + calories_counter(combos[item])  # We just call the function on the items of the combo\n",
    "        else:\n",
    "            pass\n",
    "    return total"
   ]
  },
  {
   "cell_type": "code",
   "execution_count": null,
   "id": "d8908271-fb89-4ce3-894c-5c13d48c25eb",
   "metadata": {},
   "outputs": [],
   "source": [
    "result = calories_counter([\"Cheesy Combo\", \"Cheese Burger\", \"Iced Tea\"]) \n",
    "print(result)"
   ]
  },
  {
   "cell_type": "code",
   "execution_count": null,
   "id": "3420469c-2974-4567-bf71-73bc5306ef33",
   "metadata": {},
   "outputs": [],
   "source": [
    "# Now let's do the same with args\n",
    "\n",
    "def calories_counter(*items):\n",
    "    total = 0\n",
    "    for item in items:\n",
    "        if item in calories:\n",
    "            total = total + calories[item]\n",
    "        elif item in combos:\n",
    "            # we need to add the * to use the elements of the list as arguments instead of the list\n",
    "            total = total + calories_counter(*combos[item])\n",
    "        else:\n",
    "            pass\n",
    "    return total"
   ]
  },
  {
   "cell_type": "code",
   "execution_count": null,
   "id": "2d8fbbb6-1555-453b-ba7c-7ec98258e7f9",
   "metadata": {},
   "outputs": [],
   "source": [
    "result = calories_counter(\"Cheesy Combo\", \"Cheese Burger\", \"Iced Tea\")\n",
    "print(result)"
   ]
  },
  {
   "cell_type": "code",
   "execution_count": null,
   "id": "15f3a48b-5736-462d-b843-9a9f4b771290",
   "metadata": {},
   "outputs": [],
   "source": [
    "# Handle errors by printing a personalized message if the provided meals are not on the menu\n",
    "# Raise an error if the total calories of the meal are greater than 2000\n",
    "# Optional: Define your own exception : MealTooBigError to raise that error\n",
    "\n",
    "class MealTooBigError(Exception):\n",
    "    pass\n",
    "\n",
    "\n",
    "def calories_counter(*items):\n",
    "    total = 0\n",
    "    for item in items:\n",
    "        try:\n",
    "            total += calories[item] if item in calories else calories_counter(*combos[item])\n",
    "        except KeyError:\n",
    "            print(f\"{item} is not on the menu\")\n",
    "    if total >= 2000:\n",
    "        raise MealTooBigError(f\"{total} calories is way too much for one meal!\")\n",
    "    return total\n"
   ]
  },
  {
   "cell_type": "code",
   "execution_count": null,
   "id": "0d4b5360-138f-47f1-b269-14d94866d63a",
   "metadata": {},
   "outputs": [],
   "source": [
    "result = calories_counter(\"Cheesy Combo\", \"Cheesy Combo\", \"Cheesy Combo\")\n",
    "print(result)"
   ]
  }
 ],
 "metadata": {
  "kernelspec": {
   "display_name": "Python 3 (ipykernel)",
   "language": "python",
   "name": "python3"
  },
  "language_info": {
   "codemirror_mode": {
    "name": "ipython",
    "version": 3
   },
   "file_extension": ".py",
   "mimetype": "text/x-python",
   "name": "python",
   "nbconvert_exporter": "python",
   "pygments_lexer": "ipython3",
   "version": "3.10.4"
  }
 },
 "nbformat": 4,
 "nbformat_minor": 5
}

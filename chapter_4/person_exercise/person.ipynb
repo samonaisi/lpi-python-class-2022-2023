{
 "cells": [
  {
   "cell_type": "markdown",
   "id": "c7b32423-0d03-40c5-b134-e25dcb36e6d6",
   "metadata": {},
   "source": [
    "### Create a Person class that has the following instance attributes :\n",
    "\n",
    "- first_name (string) = \"\" / \"no name\" / None / \"John\"\n",
    "- maiden_name (string) = \"\" / \"no name\" / None / \"Doe\"\n",
    "- last_name (string) = same as maiden name\n",
    "- date_of_birth (datetime) = datetime.date.today\n",
    "- biological_gender (string) = no gender\n",
    "- spouse (another instance of Person) = None\n",
    "- children (a list of instances of Person) = []\n",
    "- parents (a tuple of one or two instances of Person) = (None, None,) or empty tuple or None\n",
    "- country of residence (string) = here\n",
    "\n",
    "### Add relevant default values for these attributes (None is a valid default)\n",
    "\n",
    "### Create methods for the following actions. \n",
    "\n",
    "They must update the fields spouse, children and instances in all the relevant instances, and make the appropriate checks (for example 18 years old minimum to get married) :\n",
    "\n",
    "\n",
    "\n",
    "- Marry someone\n",
    "    - arguments :\n",
    "        - person to mary\n",
    "        - what to do with name (no default ?)\n",
    "    - actions :\n",
    "        - changes the `spouse` field\n",
    "        - change the `spouse`field for the person to mary\n",
    "        - change the name ? 3 options : keep person 1; keep person 2; no change\n",
    "    - security checks :\n",
    "        - instance of Person\n",
    "        - not themselves\n",
    "        - (not dead ??)\n",
    "        - not mary parents/children/brothers/sisters\n",
    "        - older than what you consider a logical age to be able to mary (both people)\n",
    "    - returned value : \n",
    "        - no return ? both people in a list ? in a tuple ?\n",
    "- Divorce\n",
    "    - arguments :\n",
    "        - what to do with name (default = go back to maiden ?)\n",
    "    - actions :\n",
    "        - spouse becomes None\n",
    "        - spouse's spouse becomes None\n",
    "        - Go back to maiden name ? optional\n",
    "    - security checks : \n",
    "        - spouse is not None\n",
    "    - returned value : \n",
    "        - no return ?\n",
    "- Make a child with someone (this must return a new instance of Person, we’ll consider that a child is born immediately)\n",
    "    - goal : create instance of person, what values for these fields : \n",
    "        - country of residence (string) = here\n",
    "    - arguments :\n",
    "        - first_name (string) = \"\" / \"no name\" / None / \"John\"\n",
    "        - maiden_name (string) = \"\" / \"no name\" / None / \"Doe\"\n",
    "        - other parent\n",
    "    - actions :\n",
    "        - make gender random\n",
    "        - create an instance of Person with right arguments\n",
    "        - both parents get new instance in children attribute\n",
    "    - security checks : \n",
    "        - check that both parents are old enough\n",
    "    - returned value : \n",
    "        - new created instance of Person\n"
   ]
  },
  {
   "cell_type": "code",
   "execution_count": 64,
   "id": "a069993f-caab-4951-b2d9-05f3da372ddb",
   "metadata": {},
   "outputs": [
    {
     "name": "stdout",
     "output_type": "stream",
     "text": [
      "(John Smith-Bryant, John Bryant-Smith)\n"
     ]
    }
   ],
   "source": [
    "from person.person import Person\n",
    "import datetime\n",
    "\n",
    "person_1 = Person(\"John\", \"Smith\", \"M\", [], date_of_birth=datetime.date(2000, 2, 2))\n",
    "person_2 = Person(\"John\", \"Bryant\", \"M\", [], date_of_birth=datetime.date(1999, 2, 7))\n",
    "response = person_1.mary(person_2, \"compose\")\n",
    "print(response)\n"
   ]
  }
 ],
 "metadata": {
  "kernelspec": {
   "display_name": "Python 3 (ipykernel)",
   "language": "python",
   "name": "python3"
  },
  "language_info": {
   "codemirror_mode": {
    "name": "ipython",
    "version": 3
   },
   "file_extension": ".py",
   "mimetype": "text/x-python",
   "name": "python",
   "nbconvert_exporter": "python",
   "pygments_lexer": "ipython3",
   "version": "3.10.4"
  }
 },
 "nbformat": 4,
 "nbformat_minor": 5
}

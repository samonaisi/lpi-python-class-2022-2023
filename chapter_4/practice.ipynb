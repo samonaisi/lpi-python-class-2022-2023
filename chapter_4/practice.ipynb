{
 "cells": [
  {
   "cell_type": "code",
   "execution_count": null,
   "metadata": {},
   "outputs": [],
   "source": [
    "# Create an instance of the class \"Cat\"\n",
    "class Cat:\n",
    "    pass"
   ]
  },
  {
   "cell_type": "code",
   "execution_count": null,
   "metadata": {},
   "outputs": [],
   "source": [
    "# Change the value of the attribute\n",
    "class Cat:\n",
    "    def __init__(self):\n",
    "        self.age = 0\n",
    "\n",
    "instance = Cat()\n",
    "# Add a line here to make the following assertion correct\n",
    "\n",
    "assert instance.age == 1"
   ]
  },
  {
   "cell_type": "code",
   "execution_count": null,
   "metadata": {},
   "outputs": [],
   "source": [
    "# Create a method called \"meow\" that will make the assertion correct\n",
    "class Cat:\n",
    "    pass\n",
    "\n",
    "\n",
    "instance = Cat()\n",
    "result = instance.meow()\n",
    "\n",
    "assert result == \"Meow!\""
   ]
  },
  {
   "cell_type": "code",
   "execution_count": null,
   "metadata": {},
   "outputs": [],
   "source": [
    "# Create a class method called \"simple_cat_fact\" that will make the assertion correct\n",
    "class Cat:\n",
    "    pass\n",
    "\n",
    "\n",
    "result = Cat.simple_cat_fact()\n",
    "\n",
    "assert result == \"Cats are great!\""
   ]
  },
  {
   "cell_type": "code",
   "execution_count": 5,
   "metadata": {},
   "outputs": [],
   "source": [
    "# Create a method called \"get_breed\" that returns the attribute \"breed\"\n",
    "# Do not directly return the expected value, the method must work even if the attribute's value changes\n",
    "class Cat:\n",
    "    def __init__(self):\n",
    "        self.breed = \"Ragdoll\"\n",
    "\n",
    "\n",
    "instance = Cat()\n",
    "result = instance.get_breed()\n",
    "\n",
    "assert result == \"This cat's breed is : Ragdoll\""
   ]
  },
  {
   "cell_type": "code",
   "execution_count": null,
   "metadata": {},
   "outputs": [],
   "source": [
    "# Create a class method called \"get_natural_enemy\" that returns the class attribute \"natural_enemy\"\n",
    "# Do not directly return the expected value, the method must work even if the attribute's value changes\n",
    "class Cat:\n",
    "    natural_enemy = \"Dog\"\n",
    "\n",
    "\n",
    "assert Cat.get_natural_enemy() == \"The natural enemy of Cat is : Dog\""
   ]
  },
  {
   "cell_type": "code",
   "execution_count": null,
   "metadata": {},
   "outputs": [],
   "source": [
    "# Modify the __init__ method so that it accepts two arguments and creates two attributes with them\n",
    "class Cat:\n",
    "    def __init__(self):\n",
    "        pass\n",
    "\n",
    "\n",
    "instance = Cat(\"Siamese\", 5)\n",
    "\n",
    "assert instance.breed == \"Siamese\"\n",
    "assert instance.age == 5"
   ]
  },
  {
   "cell_type": "code",
   "execution_count": null,
   "metadata": {},
   "outputs": [],
   "source": [
    "# Modify the __init__ method so that it accepts an argument that will give \"_my_attribute\" its value\n",
    "# Modify the getter and setter of the \"my_attribute\" property to make the assertions correct\n",
    "class Cat:\n",
    "    def __init__(self):\n",
    "        times_renamed = 0\n",
    "        _name = \"\"\n",
    "\n",
    "    def _set_name(self):\n",
    "        pass\n",
    "\n",
    "    def _get_name(self):\n",
    "        pass\n",
    "\n",
    "    name = property(_get_name, _set_name)\n",
    "\n",
    "\n",
    "instance = Cat(\"Kitty\")\n",
    "\n",
    "assert instance.times_renamed == 0\n",
    "assert instance.name == \"This cat's name is : Kitty\"\n",
    "\n",
    "instance.name = \"Cookie\"\n",
    "\n",
    "assert instance.times_renamed == 1\n",
    "assert instance.name == \"This cat's name is : Cookie\""
   ]
  }
 ],
 "metadata": {
  "kernelspec": {
   "display_name": "Python 3",
   "language": "python",
   "name": "python3"
  },
  "language_info": {
   "codemirror_mode": {
    "name": "ipython",
    "version": 3
   },
   "file_extension": ".py",
   "mimetype": "text/x-python",
   "name": "python",
   "nbconvert_exporter": "python",
   "pygments_lexer": "ipython3",
   "version": "3.11.0"
  },
  "orig_nbformat": 4,
  "vscode": {
   "interpreter": {
    "hash": "1a1af0ee75eeea9e2e1ee996c87e7a2b11a0bebd85af04bb136d915cefc0abce"
   }
  }
 },
 "nbformat": 4,
 "nbformat_minor": 2
}

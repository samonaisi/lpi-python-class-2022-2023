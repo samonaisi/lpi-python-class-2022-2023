{
 "cells": [
  {
   "cell_type": "code",
   "execution_count": null,
   "id": "bd9e13b0-0906-4032-9a7c-ee90e3739a90",
   "metadata": {},
   "outputs": [],
   "source": [
    "print(\"Hello world !\")"
   ]
  }
 ],
 "metadata": {
  "kernelspec": {
   "display_name": "Python 3 (ipykernel)",
   "language": "python",
   "name": "python3"
  },
  "language_info": {
   "codemirror_mode": {
    "name": "ipython",
    "version": 3
   },
   "file_extension": ".py",
   "mimetype": "text/x-python",
   "name": "python",
   "nbconvert_exporter": "python",
   "pygments_lexer": "ipython3",
   "version": "3.10.4"
  }
 },
 "nbformat": 4,
 "nbformat_minor": 5
}
